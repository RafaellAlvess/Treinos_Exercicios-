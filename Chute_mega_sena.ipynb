{
  "nbformat": 4,
  "nbformat_minor": 0,
  "metadata": {
    "colab": {
      "provenance": []
    },
    "kernelspec": {
      "name": "python3",
      "display_name": "Python 3"
    },
    "language_info": {
      "name": "python"
    }
  },
  "cells": [
    {
      "cell_type": "code",
      "execution_count": 5,
      "metadata": {
        "id": "GvTdYxpBeD93"
      },
      "outputs": [],
      "source": [
        "# Sorteando os números\n",
        "from random import sample,seed\n",
        "\n",
        "numeros_sorteados = sample(range(1, 61), 6)\n",
        "numeros_sorteados = sorted(numeros_sorteados)\n",
        "# print(numeros_sorteados)"
      ]
    },
    {
      "cell_type": "code",
      "source": [
        "# registrando chute\n",
        "\n",
        "chute = []\n",
        "\n",
        "for i in range(1, 7):\n",
        "  num = 0\n",
        "  while num < 1 or num > 60 or num in chute:\n",
        "    num = int(input(f'{i}º número - Digite um número entre 1 e 60 '))\n",
        "  chute.append(num)\n",
        "\n",
        "chute = sorted(chute)\n",
        "print('Seu chute é', chute)"
      ],
      "metadata": {
        "colab": {
          "base_uri": "https://localhost:8080/"
        },
        "id": "FKOvqToZeHNa",
        "outputId": "77bf6043-abe9-4c00-d58e-b8e6a8280d31"
      },
      "execution_count": 6,
      "outputs": [
        {
          "output_type": "stream",
          "name": "stdout",
          "text": [
            "1º número - Digite um número entre 1 e 60 13\n",
            "2º número - Digite um número entre 1 e 60 24\n",
            "3º número - Digite um número entre 1 e 60 27\n",
            "4º número - Digite um número entre 1 e 60 32\n",
            "5º número - Digite um número entre 1 e 60 17\n",
            "6º número - Digite um número entre 1 e 60 48\n",
            "Seu chute é [13, 17, 24, 27, 32, 48]\n"
          ]
        }
      ]
    },
    {
      "cell_type": "code",
      "source": [
        "import numpy as np\n",
        "resultado = np.in1d(chute, numeros_sorteados)\n",
        "acertos = len(np.intersect1d(chute, numeros_sorteados))\n",
        "# print(acertos)"
      ],
      "metadata": {
        "id": "rGhphAwneKXm"
      },
      "execution_count": 7,
      "outputs": []
    },
    {
      "cell_type": "code",
      "source": [
        "print('Você ganhou na Mega') if resultado.all() else print(f'Você perdeu e acertou {acertos} número(s).')\n",
        "print('\\nSorteio   ', numeros_sorteados)\n",
        "print('Seu chute ', chute)"
      ],
      "metadata": {
        "colab": {
          "base_uri": "https://localhost:8080/"
        },
        "id": "CyyJLkhHeQM4",
        "outputId": "0fe70529-da2b-482b-f352-cf8c2c96ba6e"
      },
      "execution_count": 8,
      "outputs": [
        {
          "output_type": "stream",
          "name": "stdout",
          "text": [
            "Você perdeu e acertou 1 número(s).\n",
            "\n",
            "Sorteio    [10, 17, 35, 42, 51, 53]\n",
            "Seu chute  [13, 17, 24, 27, 32, 48]\n"
          ]
        }
      ]
    }
  ]
}